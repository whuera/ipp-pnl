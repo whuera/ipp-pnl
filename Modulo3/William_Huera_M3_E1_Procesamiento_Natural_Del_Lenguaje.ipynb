{
  "nbformat": 4,
  "nbformat_minor": 0,
  "metadata": {
    "colab": {
      "provenance": []
    },
    "kernelspec": {
      "name": "python3",
      "display_name": "Python 3"
    },
    "language_info": {
      "name": "python"
    }
  },
  "cells": [
    {
      "cell_type": "markdown",
      "source": [
        "## Caso de análisis:\n",
        "Al día siguiente, presentamos los resultados anteriores al equipo y obtenemos el VoBo para continuar. Efectivamente, lo obtenido hasta el momento hace sentido, y lo importante es que ya se cuenta con un corpus de comentarios limpio y se tiene un vocabulario resumido. Alguien del equipo expresa que ya se puede aplicar, entonces, un modelo para clasificación, por lo que -con todo la razón- argumentamos que primero se debe obtener una representación vectorial del corpus, y justamente es lo que se pondrá en foco a continuación."
      ],
      "metadata": {
        "id": "XOHxb9wynhBm"
      }
    },
    {
      "cell_type": "markdown",
      "source": [
        "## Consignas\n",
        "\n",
        "1. Representación vectorial: en esta parte, se debe aplicar un modelo de representación vectorial. Se recomienda el uso de TfidfVectorizer por sobre una representación BoW debido a que facilita la inclusión de los emojis, tal como se expone en el siguiente ejemplo:\n",
        "\n",
        "from sklearn.feature_extraction.text import TfidfVectorizer\n",
        "tfidf = TfidfVectorizer(token_pattern='[^\\s]+')\n",
        "tfidf_X_train = tfidf.fit_transform(X_train)\n",
        "\n",
        "El modelo para la vectorización debe ajustarse primero con los datos X de entrenamiento y, posteriormente, realizar la transformación con los datos X de testeo:\n",
        "tfidf_X_test = tfidf.transform(X_test)\n",
        "\n",
        "\n",
        "\n",
        "\n"
      ],
      "metadata": {
        "id": "MnIDrbmvARQY"
      }
    },
    {
      "cell_type": "markdown",
      "source": [
        "Resolución:\n",
        "mantenemos el código del API2, para mantener los datos calculados"
      ],
      "metadata": {
        "id": "LZJ3_3nhOw1A"
      }
    },
    {
      "cell_type": "markdown",
      "source": [
        "1) Importación de librerias"
      ],
      "metadata": {
        "id": "4NSmeDJJvKcL"
      }
    },
    {
      "cell_type": "code",
      "source": [
        "import pandas as pd\n",
        "import numpy as np\n",
        "import re\n",
        "import nltk\n",
        "from nltk.tokenize import RegexpTokenizer\n",
        "from nltk.stem import WordNetLemmatizer, PorterStemmer\n",
        "from sklearn.model_selection import train_test_split\n",
        "import matplotlib.pyplot as plt\n",
        "import seaborn as sns"
      ],
      "metadata": {
        "id": "Fcy_UdK7bdPz"
      },
      "execution_count": 1,
      "outputs": []
    },
    {
      "cell_type": "code",
      "source": [
        "nltk.download('wordnet')\n",
        "nltk.download('stopwords')"
      ],
      "metadata": {
        "colab": {
          "base_uri": "https://localhost:8080/"
        },
        "id": "hyEvEZgkb51n",
        "outputId": "131b4537-de16-430c-88ac-92e387dbfbd9"
      },
      "execution_count": 2,
      "outputs": [
        {
          "output_type": "stream",
          "name": "stderr",
          "text": [
            "[nltk_data] Downloading package wordnet to /root/nltk_data...\n",
            "[nltk_data] Downloading package stopwords to /root/nltk_data...\n",
            "[nltk_data]   Unzipping corpora/stopwords.zip.\n"
          ]
        },
        {
          "output_type": "execute_result",
          "data": {
            "text/plain": [
              "True"
            ]
          },
          "metadata": {},
          "execution_count": 2
        }
      ]
    },
    {
      "cell_type": "markdown",
      "source": [
        "2) limpieza y tokenización"
      ],
      "metadata": {
        "id": "ckCPz_7Cd84-"
      }
    },
    {
      "cell_type": "code",
      "source": [
        "import re\n",
        "\n",
        "def limpiar_tokenizar(texto):\n",
        "  texto = texto.lower()\n",
        "  tokenizer = RegexpTokenizer(r'[^\\s^,^.^;]+')\n",
        "  tokens = tokenizer.tokenize(texto)\n",
        "  return tokens\n",
        "  texto = 'vi viene última . fff , ❤ 🥰 :)'\n",
        "  tokens = limpiar_tokenizar(texto)\n",
        "  print(tokens)\n"
      ],
      "metadata": {
        "id": "HCKG0tskdLFQ"
      },
      "execution_count": 3,
      "outputs": []
    },
    {
      "cell_type": "markdown",
      "source": [
        "b. lemantización y stemming"
      ],
      "metadata": {
        "id": "9qdoiiQze9MX"
      }
    },
    {
      "cell_type": "code",
      "source": [
        "from nltk.stem import WordNetLemmatizer, PorterStemmer\n",
        "\n",
        "# función para lemantizar\n",
        "def lematizar(tokens):\n",
        "  lemmatizer = WordNetLemmatizer()\n",
        "  lemas = [lemmatizer.lemmatize(token) for token in tokens]\n",
        "  return lemas\n",
        "\n",
        "# función para stemming\n",
        "def stemming(tokens):\n",
        "  stemmer = PorterStemmer()\n",
        "  raices = [stemmer.stem(token) for token in tokens]\n",
        "  return raices"
      ],
      "metadata": {
        "id": "yHp8OVTmfENR"
      },
      "execution_count": 4,
      "outputs": []
    },
    {
      "cell_type": "markdown",
      "source": [
        "ejemplos:"
      ],
      "metadata": {
        "id": "ZlAlVNeJgQXM"
      }
    },
    {
      "cell_type": "code",
      "source": [
        "data ={\n",
        "    'texto':[\n",
        "        \"Este es un buen ejemplo.\",\n",
        "        \"Este es un mal ejemplo.\",\n",
        "        \"Este es un ejemplo informativo.\",\n",
        "        \"comentario adicional\",\n",
        "        \"comentario malo\",\n",
        "        \"comentario bueno\"\n",
        "    ],\n",
        "    'target':['bueno', 'malo', 'info', 'adicional', 'malo', 'bueno']\n",
        "}\n",
        "df = pd.DataFrame(data)\n",
        "df['tokens'] = df['texto'].apply(limpiar_tokenizar)\n",
        "df['lemas'] = df['tokens'].apply(lematizar)\n",
        "df['raices'] = df['tokens'].apply(stemming)\n",
        "\n",
        "print(df[['lemas','texto','tokens', 'raices']])"
      ],
      "metadata": {
        "colab": {
          "base_uri": "https://localhost:8080/"
        },
        "id": "1Hkqd3D5gSW7",
        "outputId": "a3e3837b-a2bc-414a-99c3-0b6f75dbdf89"
      },
      "execution_count": 5,
      "outputs": [
        {
          "output_type": "stream",
          "name": "stdout",
          "text": [
            "                                 lemas                            texto  \\\n",
            "0         [este, e, un, buen, ejemplo]         Este es un buen ejemplo.   \n",
            "1          [este, e, un, mal, ejemplo]          Este es un mal ejemplo.   \n",
            "2  [este, e, un, ejemplo, informativo]  Este es un ejemplo informativo.   \n",
            "3              [comentario, adicional]             comentario adicional   \n",
            "4                   [comentario, malo]                  comentario malo   \n",
            "5                  [comentario, bueno]                 comentario bueno   \n",
            "\n",
            "                                 tokens                               raices  \n",
            "0         [este, es, un, buen, ejemplo]         [est, es, un, buen, ejemplo]  \n",
            "1          [este, es, un, mal, ejemplo]          [est, es, un, mal, ejemplo]  \n",
            "2  [este, es, un, ejemplo, informativo]  [est, es, un, ejemplo, informativo]  \n",
            "3               [comentario, adicional]                [comentario, adicion]  \n",
            "4                    [comentario, malo]                   [comentario, malo]  \n",
            "5                   [comentario, bueno]                  [comentario, bueno]  \n"
          ]
        }
      ]
    },
    {
      "cell_type": "markdown",
      "source": [
        "3) split de la muestra"
      ],
      "metadata": {
        "id": "Gnc14CX9hjIK"
      }
    },
    {
      "cell_type": "code",
      "source": [
        "train, test = train_test_split(df, test_size=0.2, random_state=42)\n",
        "print(\"Entrenamiento:\")\n",
        "print(train)\n",
        "print(\"Prueba:\")\n",
        "print(test)"
      ],
      "metadata": {
        "colab": {
          "base_uri": "https://localhost:8080/"
        },
        "id": "vVRBqAqPiJWJ",
        "outputId": "2f654f6a-4445-4f19-b6ee-ec707d52f180"
      },
      "execution_count": 6,
      "outputs": [
        {
          "output_type": "stream",
          "name": "stdout",
          "text": [
            "Entrenamiento:\n",
            "                             texto     target  \\\n",
            "5                 comentario bueno      bueno   \n",
            "2  Este es un ejemplo informativo.       info   \n",
            "4                  comentario malo       malo   \n",
            "3             comentario adicional  adicional   \n",
            "\n",
            "                                 tokens                                lemas  \\\n",
            "5                   [comentario, bueno]                  [comentario, bueno]   \n",
            "2  [este, es, un, ejemplo, informativo]  [este, e, un, ejemplo, informativo]   \n",
            "4                    [comentario, malo]                   [comentario, malo]   \n",
            "3               [comentario, adicional]              [comentario, adicional]   \n",
            "\n",
            "                                raices  \n",
            "5                  [comentario, bueno]  \n",
            "2  [est, es, un, ejemplo, informativo]  \n",
            "4                   [comentario, malo]  \n",
            "3                [comentario, adicion]  \n",
            "Prueba:\n",
            "                      texto target                         tokens  \\\n",
            "0  Este es un buen ejemplo.  bueno  [este, es, un, buen, ejemplo]   \n",
            "1   Este es un mal ejemplo.   malo   [este, es, un, mal, ejemplo]   \n",
            "\n",
            "                          lemas                        raices  \n",
            "0  [este, e, un, buen, ejemplo]  [est, es, un, buen, ejemplo]  \n",
            "1   [este, e, un, mal, ejemplo]   [est, es, un, mal, ejemplo]  \n"
          ]
        }
      ]
    },
    {
      "cell_type": "markdown",
      "source": [
        "4) target"
      ],
      "metadata": {
        "id": "l1fG775IioqR"
      }
    },
    {
      "cell_type": "code",
      "source": [
        "import matplotlib.pyplot as plt\n",
        "import seaborn as sns\n",
        "\n",
        "train['set'] = 'train'\n",
        "test['set'] = 'test'\n",
        "df_all = pd.concat([train, test])\n",
        "\n",
        "# gráfica\n",
        "plt.figure(figsize=(10, 6))\n",
        "sns.countplot(x='target', hue='set', data=df_all)\n",
        "plt.title('Distribución del target según muestra train y test')\n",
        "plt.xlabel('Target')\n",
        "plt.ylabel('Cantidad')\n",
        "plt.legend(title='Set')\n",
        "plt.show()"
      ],
      "metadata": {
        "colab": {
          "base_uri": "https://localhost:8080/",
          "height": 565
        },
        "id": "Bz9HM8INi3Jb",
        "outputId": "9aa5b3b5-e8f0-49df-d2c2-2a0173c9df01"
      },
      "execution_count": 7,
      "outputs": [
        {
          "output_type": "display_data",
          "data": {
            "text/plain": [
              "<Figure size 1000x600 with 1 Axes>"
            ],
            "image/png": "[encoded data removed]"
          },
          "metadata": {}
        }
      ]
    },
    {
      "cell_type": "markdown",
      "source": [
        "## Desarrollo API3 - NPL"
      ],
      "metadata": {
        "id": "VgDdebLYPbaq"
      }
    },
    {
      "cell_type": "markdown",
      "source": [
        "importamos librerias"
      ],
      "metadata": {
        "id": "FzNHzaz5Phut"
      }
    },
    {
      "cell_type": "code",
      "source": [
        "from sklearn.feature_extraction.text import TfidfVectorizer\n"
      ],
      "metadata": {
        "id": "li1Asf-hPq5x"
      },
      "execution_count": 8,
      "outputs": []
    },
    {
      "cell_type": "markdown",
      "source": [
        "Definimos las variables para entrenamiento"
      ],
      "metadata": {
        "id": "Hvxl_5nrP1VY"
      }
    },
    {
      "cell_type": "code",
      "source": [
        "X_train = train['texto']\n",
        "X_test = test['texto']\n",
        "y_train = train['target']\n",
        "y_test = test['target']"
      ],
      "metadata": {
        "id": "5V64ZPK3P6NO"
      },
      "execution_count": 9,
      "outputs": []
    },
    {
      "cell_type": "markdown",
      "source": [
        "Generamos el modelo tfidfVectorizer, que aplica el token_pattter para incluir los emojis"
      ],
      "metadata": {
        "id": "82aWdqZRQhJH"
      }
    },
    {
      "cell_type": "code",
      "source": [
        "tfidf = TfidfVectorizer(token_pattern='[^\\s]+')"
      ],
      "metadata": {
        "id": "Pb702iXLQ1mP"
      },
      "execution_count": 10,
      "outputs": []
    },
    {
      "cell_type": "markdown",
      "source": [
        "Se ajusta el modelo con los datos de entrenamiento"
      ],
      "metadata": {
        "id": "_LiTUAGDQ7Ds"
      }
    },
    {
      "cell_type": "code",
      "source": [
        "tfidf_X_train = tfidf.fit_transform(X_train)"
      ],
      "metadata": {
        "id": "G1Hd1oBYRF1b"
      },
      "execution_count": 11,
      "outputs": []
    },
    {
      "cell_type": "markdown",
      "source": [
        "transformar datos"
      ],
      "metadata": {
        "id": "EBWwo8fwRNqb"
      }
    },
    {
      "cell_type": "code",
      "source": [
        "tfidf_X_test = tfidf.transform(X_test)"
      ],
      "metadata": {
        "id": "w4G_PuVcRP4y"
      },
      "execution_count": 12,
      "outputs": []
    },
    {
      "cell_type": "markdown",
      "source": [
        "Mostramos las matrices resultantes"
      ],
      "metadata": {
        "id": "5H5PLDE5RWYu"
      }
    },
    {
      "cell_type": "code",
      "source": [
        "print(\"Dimensiones del conjunto de entrenamiento: \", tfidf_X_train.shape)\n",
        "print(\"Dimensiones del conjunto de prueba: \", tfidf_X_test.shape)"
      ],
      "metadata": {
        "colab": {
          "base_uri": "https://localhost:8080/"
        },
        "id": "_SNXtX6iRayM",
        "outputId": "e078cacf-df3b-4ceb-90a0-4cf7a65e32fa"
      },
      "execution_count": 13,
      "outputs": [
        {
          "output_type": "stream",
          "name": "stdout",
          "text": [
            "Dimensiones del conjunto de entrenamiento:  (4, 9)\n",
            "Dimensiones del conjunto de prueba:  (2, 9)\n"
          ]
        }
      ]
    },
    {
      "cell_type": "markdown",
      "source": [
        "Obtener las caracteristicas (tokens)"
      ],
      "metadata": {
        "id": "yNfIBU-oSMDS"
      }
    },
    {
      "cell_type": "code",
      "source": [
        "feature_names = tfidf.get_feature_names_out()"
      ],
      "metadata": {
        "id": "EnlLJhN0SQ-S"
      },
      "execution_count": 15,
      "outputs": []
    },
    {
      "cell_type": "markdown",
      "source": [
        "convertir la matriz tfidf_X_train en dataframe"
      ],
      "metadata": {
        "id": "WPcF9COMSzC0"
      }
    },
    {
      "cell_type": "code",
      "source": [
        "tfidf_df = pd.DataFrame(tfidf_X_train.toarray(), columns=feature_names)"
      ],
      "metadata": {
        "id": "Eb72GkUaTBCU"
      },
      "execution_count": 16,
      "outputs": []
    },
    {
      "cell_type": "markdown",
      "source": [
        "convertir tfidf_X_test en dataframe"
      ],
      "metadata": {
        "id": "pQNkk4NBTa0N"
      }
    },
    {
      "cell_type": "code",
      "source": [
        "tfidf_df_test = pd.DataFrame(tfidf_X_test.toarray(), columns=feature_names)"
      ],
      "metadata": {
        "id": "mu7ASHfPTdoJ"
      },
      "execution_count": 17,
      "outputs": []
    },
    {
      "cell_type": "markdown",
      "source": [
        "Visualizar dataframe"
      ],
      "metadata": {
        "id": "aP8CAQ7cTk_r"
      }
    },
    {
      "cell_type": "code",
      "source": [
        "print(\"Matriz tfidf_X_train\")\n",
        "print(tfidf_df.head())"
      ],
      "metadata": {
        "colab": {
          "base_uri": "https://localhost:8080/"
        },
        "id": "-J_1lo8xTmP3",
        "outputId": "cfb03648-0b0f-4ccd-bbc5-cc5dc523e945"
      },
      "execution_count": 18,
      "outputs": [
        {
          "output_type": "stream",
          "name": "stdout",
          "text": [
            "Matriz tfidf_X_train\n",
            "   adicional     bueno  comentario   ejemplo        es      este  \\\n",
            "0   0.000000  0.842926    0.538029  0.000000  0.000000  0.000000   \n",
            "1   0.000000  0.000000    0.000000  0.447214  0.447214  0.447214   \n",
            "2   0.000000  0.000000    0.538029  0.000000  0.000000  0.000000   \n",
            "3   0.842926  0.000000    0.538029  0.000000  0.000000  0.000000   \n",
            "\n",
            "   informativo.      malo        un  \n",
            "0      0.000000  0.000000  0.000000  \n",
            "1      0.447214  0.000000  0.447214  \n",
            "2      0.000000  0.842926  0.000000  \n",
            "3      0.000000  0.000000  0.000000  \n"
          ]
        }
      ]
    },
    {
      "cell_type": "code",
      "source": [
        "print(\"Matriz tfidf_X_test\")\n",
        "print(tfidf_df_test.head())"
      ],
      "metadata": {
        "colab": {
          "base_uri": "https://localhost:8080/"
        },
        "id": "JpKgXSGxUQwc",
        "outputId": "b73f04b6-43ad-47cb-8def-a733b4c93b67"
      },
      "execution_count": 19,
      "outputs": [
        {
          "output_type": "stream",
          "name": "stdout",
          "text": [
            "Matriz tfidf_X_test\n",
            "   adicional  bueno  comentario  ejemplo       es     este  informativo.  \\\n",
            "0        0.0    0.0         0.0      0.0  0.57735  0.57735           0.0   \n",
            "1        0.0    0.0         0.0      0.0  0.57735  0.57735           0.0   \n",
            "\n",
            "   malo       un  \n",
            "0   0.0  0.57735  \n",
            "1   0.0  0.57735  \n"
          ]
        }
      ]
    }
  ]
}