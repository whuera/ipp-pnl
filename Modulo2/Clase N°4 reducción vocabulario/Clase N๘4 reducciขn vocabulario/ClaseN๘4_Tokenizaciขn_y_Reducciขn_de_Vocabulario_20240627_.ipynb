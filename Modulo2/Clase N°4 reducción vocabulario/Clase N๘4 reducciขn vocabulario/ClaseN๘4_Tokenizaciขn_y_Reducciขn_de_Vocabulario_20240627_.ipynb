{
 "cells": [
  {
   "cell_type": "markdown",
   "metadata": {
    "id": "y5VjYESeDnCx"
   },
   "source": [
    "# Profesor : James Tomalá\n",
    "Estadístico , Data Scientist"
   ]
  },
  {
   "cell_type": "markdown",
   "metadata": {
    "id": "P7Kh9-boq59T"
   },
   "source": [
    "### Caso práctico N° 4:  Análisis de Textos "
   ]
  },
  {
   "cell_type": "markdown",
   "metadata": {},
   "source": [
    "#### Leer texto desde un txt "
   ]
  },
  {
   "cell_type": "code",
   "execution_count": null,
   "metadata": {},
   "outputs": [
    {
     "ename": "",
     "evalue": "",
     "output_type": "error",
     "traceback": [
      "\u001b[1;31mLa ejecución de celdas con 'Python 3.12.4' requiere el paquete ipykernel.\n",
      "\u001b[1;31mEjecute el siguiente comando para instalar 'ipykernel' en el entorno de Python. comando \n",
      "\u001b[1;31m: '/opt/homebrew/bin/python3 -m pip install ipykernel -U --user --force-reinstall'"
     ]
    }
   ],
   "source": [
    "### Extrae texto de un txt \n",
    "def extract_text_from_txt(txt_path):\n",
    "    \"\"\"\n",
    "    Extrae texto de un archivo TXT.\n",
    "    \n",
    "    :param txt_path: Ruta al archivo TXT.\n",
    "    :return: Texto extraído del archivo TXT.\n",
    "    \"\"\"\n",
    "    # Abre el archivo TXT en modo lectura\n",
    "    with open(txt_path, 'r') as file:  # podría usar : , encoding='latin-1'\n",
    "        # Lee todo el contenido del archivo\n",
    "        extracted_text = file.read()\n",
    "        \n",
    "    return extracted_text\n",
    "\n",
    "# Ejemplo de uso\n",
    "txt_path = '/Users/whuera/Documents/Chile/IPP-Chile/Procesamiento natural del lenguaje/Modulo2/Clase N°4 reducción vocabulario/Clase Nø4 reducci¢n vocabulario/cuento_astro_perdido.txt'\n",
    "texto = extract_text_from_txt(txt_path)\n",
    "print(texto)"
   ]
  },
  {
   "cell_type": "markdown",
   "metadata": {},
   "source": [
    "#### Leer archivo desde un PDF "
   ]
  },
  {
   "cell_type": "code",
   "execution_count": null,
   "metadata": {
    "colab": {
     "base_uri": "https://localhost:8080/"
    },
    "id": "A1F-5Z87rb8t",
    "outputId": "0922bb2a-43ef-4828-cfcd-b6997f525c79"
   },
   "outputs": [
    {
     "ename": "",
     "evalue": "",
     "output_type": "error",
     "traceback": [
      "\u001b[1;31mLa ejecución de celdas con 'Python 3.12.4' requiere el paquete ipykernel.\n",
      "\u001b[1;31mEjecute el siguiente comando para instalar 'ipykernel' en el entorno de Python. comando \n",
      "\u001b[1;31m: '/opt/homebrew/bin/python3 -m pip install ipykernel -U --user --force-reinstall'"
     ]
    }
   ],
   "source": [
    "## Extrae texto de un pdf \n",
    "### Si tiene problemas para instalar PyPDF2, se debe instalar previamente:  \n",
    "#pip install traits\n",
    "#pip install PyMuPDF\n",
    "#pip intall fitz\n",
    "\n",
    "import PyPDF2\n",
    "\n",
    "# Función para extraer texto del PDF usando PyPDF2\n",
    "def extract_text_from_pdf(pdf_path):\n",
    "    text = \"\"\n",
    "    with open(pdf_path, 'rb') as file:\n",
    "        reader = PyPDF2.PdfReader(file)\n",
    "        for page_num in range(len(reader.pages)):\n",
    "            page = reader.pages[page_num]\n",
    "            text += page.extract_text()\n",
    "    return text\n",
    "\n"
   ]
  },
  {
   "cell_type": "code",
   "execution_count": null,
   "metadata": {
    "id": "sgBZ7v-hfZA6"
   },
   "outputs": [
    {
     "ename": "",
     "evalue": "",
     "output_type": "error",
     "traceback": [
      "\u001b[1;31mLa ejecución de celdas con 'Python 3.12.4' requiere el paquete ipykernel.\n",
      "\u001b[1;31mEjecute el siguiente comando para instalar 'ipykernel' en el entorno de Python. comando \n",
      "\u001b[1;31m: '/opt/homebrew/bin/python3 -m pip install ipykernel -U --user --force-reinstall'"
     ]
    }
   ],
   "source": [
    "text = extract_text_from_pdf('Modulo2/Clase N°4 reducción vocabulario/Clase Nø4 reducci¢n vocabulario/cuento_astro_perdido.pdf')\n",
    "\n",
    "\n",
    "print(text[:1000])  # Imprimir los primeros 1000 caracteres del texto limpiado"
   ]
  },
  {
   "cell_type": "markdown",
   "metadata": {},
   "source": [
    "# NLTK : Stemming \n",
    "\n",
    "#### Realizar una radicalización con SnowBall Steammer de nltk \n",
    "No se olvide previamente de lograr los tokens  "
   ]
  },
  {
   "cell_type": "code",
   "execution_count": null,
   "metadata": {
    "colab": {
     "base_uri": "https://localhost:8080/"
    },
    "id": "4w-rd3jbgdCA",
    "outputId": "cb944f51-4ff8-409e-f258-e9098ec81790"
   },
   "outputs": [
    {
     "name": "stderr",
     "output_type": "stream",
     "text": [
      "[nltk_data] Downloading package punkt to\n",
      "[nltk_data]     C:\\Users\\56951\\AppData\\Roaming\\nltk_data...\n",
      "[nltk_data]   Package punkt is already up-to-date!\n"
     ]
    }
   ],
   "source": [
    "## Tokenización  con nltk \n",
    "import nltk\n",
    "nltk.download('punkt') \n",
    "\n",
    "from nltk.tokenize import RegexpTokenizer\n",
    "\n",
    "## construir una instancia del tokenizador \n",
    "tok= RegexpTokenizer(r'\\w+')\n",
    "\n",
    "## Aplicar la tokenización \n",
    "tokens = tok.tokenize(text)\n",
    "\n",
    "# ¿Cuántas palabras tiene en total el cuento? \n",
    "\n",
    "# ¿Cuántas palabras únicas tiene el cuento? \n"
   ]
  },
  {
   "cell_type": "code",
   "execution_count": 29,
   "metadata": {
    "id": "T22ZgYvBcL05"
   },
   "outputs": [],
   "source": [
    "#impot Snow Ball\n",
    "from nltk.stem.snowball import SnowballStemmer\n"
   ]
  },
  {
   "cell_type": "code",
   "execution_count": 31,
   "metadata": {
    "colab": {
     "base_uri": "https://localhost:8080/"
    },
    "id": "bItc-CsKc_i4",
    "outputId": "d5f42a0e-390a-46a0-8c2c-37c286bc8bbe"
   },
   "outputs": [],
   "source": [
    "stemmer= SnowballStemmer(language=\"spanish\")\n",
    "\n",
    "## se aplica para cada token el método \"stem\"\n",
    "texto2= [ stemmer._____(t) for t in tokens ]\n",
    "\n",
    "print(texto2)"
   ]
  },
  {
   "cell_type": "markdown",
   "metadata": {
    "id": "GIa_KuZUcMiq"
   },
   "source": [
    "# Spacy: Lematización\n",
    "\n",
    "Realizar una lematización por Spacy del texto (en una sola cadena)"
   ]
  },
  {
   "cell_type": "code",
   "execution_count": 62,
   "metadata": {
    "colab": {
     "base_uri": "https://localhost:8080/"
    },
    "id": "V45j1x6gToO6",
    "outputId": "68818361-ff7d-4de4-fdbb-9f239e2c261b"
   },
   "outputs": [],
   "source": [
    "#importar spacy\n",
    "import spacy\n",
    "#descargar el modelo que se desea\n",
    "#from spacy.cli.download import download\n",
    "#download(model=\"es_core_news_sm\")"
   ]
  },
  {
   "cell_type": "code",
   "execution_count": 66,
   "metadata": {
    "colab": {
     "base_uri": "https://localhost:8080/"
    },
    "id": "e-PsUJNKmSbv",
    "outputId": "2650e916-75d5-4611-c85f-cf5686d4bc2f"
   },
   "outputs": [
    {
     "name": "stdout",
     "output_type": "stream",
     "text": [
      "['el', 'Misterio', 'del', 'Astro', 'Perdido', '\\n', 'En', 'uno', 'rincón', 'distante', 'del', 'universo', ',', 'entre', 'nebulosa', 'brillante', 'y', 'constelación', 'danzant', ',', '\\n', 'existir', 'uno', 'pequeño', 'sistema', 'solar', 'conocido', 'como', 'Estelaria', '.', 'este', 'sistema', 'ser', 'hogar', 'de', '\\n', 'numeroso', 'astro', ',', 'desde', 'planeta', 'rocoso', 'hasta', 'gigante', 'gaseoso', ',', 'pero', 'destacar', 'uno', 'en', '\\n', 'particular', ':', 'uno', 'estrella', 'llamado', 'Alfa', '.', '\\n', 'Alfa', ',', 'el', 'sol', 'de', 'Estelaria', ',', 'brillar', 'con', 'uno', 'intensidad', 'majestuoso', ',', 'iluminar', 'el', 'mundo', 'que', '\\n', 'girar', 'a', 'su', 'alrededor', '.', 'ser', 'el', 'fuente', 'de', 'vida', 'y', 'energía', 'para', 'todo', 'el', 'habitante', 'de', 'aquel', '\\n', 'sistema', '.', 'entre', 'él', ',', 'él', 'encontrar', 'uno', 'pequeño', 'planeta', 'llamado', 'Iridia', ',', 'conocido', 'por', 'su', '\\n', 'vasta', 'extensión', 'de', 'océano', 'cristalino', 'y', 'su', 'cielo', 'siempre', 'bañado', 'por', 'el', 'luz', 'dorado', 'de', '\\n', 'Alfa', '.', '\\n', 'en', 'Iridia', 'vivir', 'Luna', ',', 'uno', 'joven', 'astrónoma', 'apasionado', 'por', 'el', 'estudio', 'de', 'el', 'astro', 'y', 'el', '\\n', 'estrella', 'que', 'adornar', 'el', 'firmamento', 'nocturno', '.', 'desde', 'su', 'observatorio', 'en', 'él', 'alto', 'de', 'uno', '\\n', 'colina', ',', 'Luna', 'pasar', 'el', 'noche', 'estrellado', 'observar', 'el', 'constelación', 'y', 'buscar', 'nuevo', '\\n', 'fenómeno', 'celestial', '.', 'pero', 'haber', 'uno', 'estrella', 'en', 'particular', 'que', 'capturar', 'siempre', 'su', '\\n', 'atención', ':', 'uno', 'estrella', 'fugaz', 'que', ',', 'de', 'vez', 'en', 'cuando', ',', 'atravesar', 'el', 'cielo', 'con', 'uno', 'destello', 'fugaz', '\\n', 'y', 'misterioso', '.', '\\n', 'aquel', 'estrella', 'fugaz', 'haber', 'ser', 'ver', 'por', 'generación', 'en', 'Iridia', ',', 'pero', 'nadie', 'saber', 'de', 'dónde', '\\n', 'venir', 'ni', 'cuál', 'ser', 'su', 'destino', 'en', 'el', 'vasto', 'cosmo', '.', 'Luna', 'él', 'preguntar', 'si', 'poder', 'existir', 'uno', '\\n', 'vínculo', 'entre', 'ese', 'estrella', 'y', 'el', 'sol', 'Alfa', ',', 'si', 'acaso', 'haber', 'alguno', 'conexión', 'cósmico', 'que', 'unir', 'su', '\\n', 'destino', 'de', 'manera', 'inexplicable', '.', '\\n', 'uno', 'noche', ',', 'mientras', 'Luna', 'observar', 'el', 'cielo', 'desde', 'su', 'observatorio', ',', 'el', 'estrella', 'fugaz', '\\n', 'aparecer', 'de', 'nuevo', ',', 'trazar', 'uno', 'arco', 'luminoso', 'sobre', 'el', 'firmamento', 'estrellado', '.', 'decidido', 'a', '\\n', 'desentrañar', 'el', 'misterio', ',', 'Luna', 'preparar', 'su', 'telescopio', 'y', 'seguir', 'el', 'rastro', 'de', 'luz', 'de', 'el', 'estrella', '\\n', 'fugaz', '.', 'para', 'su', 'sorpresa', ',', 'el', 'estrella', 'parecer', 'dirigir él', 'hacia', 'el', 'sol', 'Alfa', ',', 'como', 'si', 'estar', 'ser', '\\n', 'atraído', 'por', 'su', 'poderoso', 'magnetismo', 'estelar', '.', '\\n', 'con', 'cada', 'noche', 'que', 'pasar', ',', 'Luna', 'documentar', 'cuidadosamente', 'el', 'movimiento', 'de', 'el', '\\n', 'estrella', 'fugaz', 'y', 'su', 'relación', 'con', 'el', 'sol', 'Alfa', '.', 'observar', 'cómo', 'el', 'estrella', 'él', 'acercar', 'lentamente', '\\n', 'a', 'el', 'órbita', 'de', 'Alfa', ',', 'como', 'si', 'estar', 'destinado', 'a', 'uno', 'encuentro', 'cósmico', 'que', 'poder', 'revelar', '\\n', 'secreto', 'ancestral', 'sobre', 'el', 'universo', '.', '\\n', '1mientra', 'tanto', ',', 'en', 'el', 'rincón', 'más', 'oscuro', 'de', 'Estelaria', ',', 'surgir', 'teoría', 'entre', 'el', '\\n', 'astrónomos', 'y', 'científico', 'sobre', 'el', 'origen', 'y', 'el', 'naturaleza', 'de', 'el', 'estrella', 'fugaz', '.', 'alguno', 'creer', '\\n', 'que', 'ser', 'uno', 'mensajero', 'de', 'civilización', 'alienígena', 'distante', ',', 'enviar', 'señal', 'de', 'vida', 'más', '\\n', 'allá', 'de', 'el', 'confín', 'conocido', '.', 'otro', 'especular', 'que', 'ser', 'uno', 'fragmento', 'de', 'uno', 'antiguo', '\\n', 'sistema', 'solar', 'que', 'haber', 'colapsar', 'en', 'el', 'pasado', 'remoto', 'del', 'universo', '.', '\\n', 'Luna', ',', 'sin', 'embargo', ',', 'sentir', 'en', 'su', 'corazón', 'que', 'el', 'respuesta', 'estar', 'vinculado', 'al', 'sol', 'Alfa', 'de', '\\n', 'alguno', 'manera', 'especial', '.', 'en', 'su', 'sueño', ',', 'ver', 'visión', 'de', 'uno', 'conexión', 'ancestral', 'entre', 'el', 'sol', 'y', '\\n', 'el', 'estrella', 'fugaz', ',', 'como', 'si', 'ambos', 'compartir', 'uno', 'destino', 'entrelazado', 'desde', 'el', 'momento', '\\n', 'mismo', 'de', 'el', 'creación', '.', '\\n', 'uno', 'noche', ',', 'mientras', 'observar', 'desde', 'su', 'observatorio', ',', 'Luna', 'presenciar', 'uno', 'evento', 'celestial', '\\n', 'sin', 'precedente', '.', 'el', 'estrella', 'fugaz', 'él', 'acercar', 'tanto', 'al', 'sol', 'Alfa', 'que', 'parecer', 'fusionar él', 'con', 'su', '\\n', 'resplandor', 'dorado', '.', 'por', 'uno', 'breve', 'instante', ',', 'el', 'luz', 'de', 'el', 'estrella', 'y', 'el', 'luz', 'del', 'sol', 'él', 'entrelazar', '\\n', 'en', 'uno', 'baile', 'cósmico', 'que', 'iluminar', 'todo', 'el', 'sistema', 'solar', 'con', 'uno', 'luminosidad', 'deslumbrante', 'y', '\\n', 'sagrado', '.', '\\n', 'en', 'ese', 'momento', 'de', 'unión', 'celestial', ',', 'Luna', 'sentir', 'uno', 'profundo', 'comprensión', 'en', 'su', 'corazón', '.', '\\n', 'el', 'estrella', 'fugaz', 'no', 'ser', 'simplemente', 'uno', 'astro', 'errante', 'en', 'el', 'universo', ';', 'ser', 'uno', 'recordatorio', 'de', '\\n', 'el', 'conexión', 'eterno', 'entre', 'todo', 'el', 'estrella', ',', 'uno', 'símbolo', 'de', 'el', 'unidad', 'cósmico', 'que', 'abarcar', '\\n', 'desde', 'el', 'confín', 'más', 'lejano', 'del', 'espacio', 'hasta', 'el', 'núcleo', 'ardiente', 'de', 'cada', 'sol', '.', '\\n', 'desde', 'entonces', ',', 'Luna', 'dedicar', 'su', 'vida', 'a', 'estudiar', 'el', 'estrella', 'fugaz', 'y', 'compartir', 'su', '\\n', 'descubrimiento', 'con', 'el', 'mundo', '.', 'en', 'cada', 'conferencia', 'astronómico', 'y', 'en', 'cada', 'publicación', '\\n', 'científico', ',', 'narrar', 'el', 'historia', 'del', 'misterio', 'del', 'astro', 'perdido', 'y', 'cómo', 'su', 'encuentro', 'con', 'el', 'sol', '\\n', 'Alfa', 'haber', 'revelar', 'verdad', 'profundo', 'sobre', 'el', 'naturaleza', 'del', 'universo', 'y', 'el', 'belleza', 'de', 'su', '\\n', 'interconexión', 'estelar', '.', '\\n', 'y', 'así', ',', 'mientras', 'el', 'sol', 'Alfa', 'seguir', 'brillar', 'sobre', 'Iridia', 'y', 'más', 'allá', ',', 'el', 'historia', 'de', 'Luna', 'y', 'el', '\\n', 'estrella', 'fugaz', 'él', 'convertir', 'en', 'uno', 'leyenda', 'que', 'inspirar', 'a', 'generación', 'futuro', 'de', '\\n', 'astrónomos', 'a', 'explorar', 'el', 'misterio', 'del', 'espacio', 'y', 'a', 'buscar', 'siempre', 'el', 'verdad', 'entre', 'el', '\\n', 'estrella', 'y', 'el', 'astro', 'que', 'poblar', 'el', 'infinito', 'cosmos', '.', '\\n', '2']\n"
     ]
    }
   ],
   "source": [
    "import spacy \n",
    "\n",
    "nlp=spacy.load(\"es_core_news_sm\")\n",
    "doc=nlp(text)\n",
    "\n",
    "texto3= []\n",
    "\n",
    "## Mostrar los lemas resultado del proceso aplicado \n",
    "\n",
    "for token in doc:\n",
    "    texto3.append(token.______________)\n",
    "\n",
    "print (texto3)\n",
    "\n",
    "#### ¿alguna otra forma de lograrlo ?  \n",
    "\n"
   ]
  },
  {
   "cell_type": "code",
   "execution_count": 5,
   "metadata": {
    "colab": {
     "base_uri": "https://localhost:8080/"
    },
    "id": "MtHd1VerfnPU",
    "outputId": "8d07f399-3b30-4a77-b882-b18bc9e30207"
   },
   "outputs": [
    {
     "name": "stdout",
     "output_type": "stream",
     "text": [
      "['misterio', 'astro', 'perdido', 'rincón', 'distante', 'universo', 'nebulosa', 'brillante', 'constelación', 'danzant', 'existir', 'pequeño', 'sistema', 'solar', 'conocido', 'estelaria', 'sistema', 'hogar', 'numeroso', 'astro', 'planeta', 'rocoso', 'gigante', 'gaseoso', 'destacar', 'particular', 'estrella', 'llamado', 'alfa', 'alfa', 'sol', 'estelaria', 'brillar', 'intensidad', 'majestuoso', 'iluminar', 'mundo', 'girar', 'fuente', 'vida', 'energía', 'habitante', 'sistema', 'encontrar', 'pequeño', 'planeta', 'llamado', 'iridia', 'conocido', 'vasta', 'extensión', 'océano', 'cristalino', 'cielo', 'bañado', 'luz', 'dorado', 'alfa', 'iridia', 'vivir', 'luna', 'joven', 'astrónoma', 'apasionado', 'estudio', 'astro', 'estrella', 'adornar', 'firmamento', 'nocturno', 'observatorio', 'alto', 'colina', 'luna', 'pasar', 'noche', 'estrellado', 'observar', 'constelación', 'buscar', 'fenómeno', 'celestial', 'estrella', 'particular', 'capturar', 'atención', 'estrella', 'fugaz', 'atravesar', 'cielo', 'destello', 'fugaz', 'misterioso', 'estrella', 'fugaz', 'ver', 'generación', 'iridia', 'saber', 'venir', 'destino', 'vasto', 'cosmo', 'luna', 'preguntar', 'existir', 'vínculo', 'estrella', 'sol', 'alfa', 'acaso', 'conexión', 'cósmico', 'unir', 'destino', 'inexplicable', 'noche', 'luna', 'observar', 'cielo', 'observatorio', 'estrella', 'fugaz', 'aparecer', 'trazar', 'arco', 'luminoso', 'firmamento', 'estrellado', 'decidido', 'desentrañar', 'misterio', 'luna', 'preparar', 'telescopio', 'seguir', 'rastro', 'luz', 'estrella', 'fugaz', 'sorpresa', 'estrella', 'parecer', 'dirigir él', 'sol', 'alfa', 'estar', 'atraído', 'poderoso', 'magnetismo', 'estelar', 'noche', 'pasar', 'luna', 'documentar', 'cuidadosamente', 'movimiento', 'estrella', 'fugaz', 'relación', 'sol', 'alfa', 'observar', 'estrella', 'acercar', 'lentamente', 'órbita', 'alfa', 'estar', 'destinado', 'encuentro', 'cósmico', 'revelar', 'secreto', 'ancestral', 'universo', '1mientra', 'rincón', 'oscuro', 'estelaria', 'surgir', 'teoría', 'astrónomos', 'científico', 'origen', 'naturaleza', 'estrella', 'fugaz', 'creer', 'mensajero', 'civilización', 'alienígena', 'distante', 'enviar', 'señal', 'vida', 'allá', 'confín', 'conocido', 'especular', 'fragmento', 'antiguo', 'sistema', 'solar', 'colapsar', 'remoto', 'universo', 'luna', 'sentir', 'corazón', 'respuesta', 'vinculado', 'sol', 'alfa', 'especial', 'sueño', 'ver', 'visión', 'conexión', 'ancestral', 'sol', 'estrella', 'fugaz', 'compartir', 'destino', 'entrelazado', 'momento', 'creación', 'noche', 'observar', 'observatorio', 'luna', 'presenciar', 'evento', 'celestial', 'precedente', 'estrella', 'fugaz', 'acercar', 'sol', 'alfa', 'parecer', 'fusionar él', 'resplandor', 'dorado', 'instante', 'luz', 'estrella', 'luz', 'sol', 'entrelazar', 'baile', 'cósmico', 'iluminar', 'sistema', 'solar', 'luminosidad', 'deslumbrante', 'sagrado', 'momento', 'unión', 'celestial', 'luna', 'sentir', 'profundo', 'comprensión', 'corazón', 'estrella', 'fugaz', 'simplemente', 'astro', 'errante', 'universo', 'recordatorio', 'conexión', 'eterno', 'estrella', 'símbolo', 'unidad', 'cósmico', 'abarcar', 'confín', 'lejano', 'espacio', 'núcleo', 'ardiente', 'sol', 'luna', 'dedicar', 'vida', 'estudiar', 'estrella', 'fugaz', 'compartir', 'descubrimiento', 'mundo', 'conferencia', 'astronómico', 'publicación', 'científico', 'narrar', 'historia', 'misterio', 'astro', 'perdido', 'encuentro', 'sol', 'alfa', 'revelar', 'verdad', 'profundo', 'naturaleza', 'universo', 'belleza', 'interconexión', 'estelar', 'sol', 'alfa', 'seguir', 'brillar', 'iridia', 'allá', 'historia', 'luna', 'estrella', 'fugaz', 'convertir', 'leyenda', 'inspirar', 'generación', 'futuro', 'astrónomos', 'explorar', 'misterio', 'espacio', 'buscar', 'estrella', 'astro', 'poblar', 'infinito', 'cosmos', '2']\n"
     ]
    }
   ],
   "source": [
    "# limpieza y Acceder al lema de cada token, estandarizar a minúsculas , eliminar: puntuaciones, stopwords y espacios en blanco \n",
    "\n",
    "import spacy \n",
    "\n",
    "nlp=spacy.load(\"es_core_news_sm\")\n",
    "doc=nlp(text)\n",
    "\n",
    "texto3 = [ __________________________________________]\n",
    "\n",
    "print(texto3)"
   ]
  },
  {
   "cell_type": "markdown",
   "metadata": {
    "id": "a5wiByDX9Rw3"
   },
   "source": [
    "#####  Detección de palabras más frecuentes\n"
   ]
  },
  {
   "cell_type": "code",
   "execution_count": 35,
   "metadata": {},
   "outputs": [
    {
     "name": "stdout",
     "output_type": "stream",
     "text": [
      "estrella: 20\n",
      "fugaz: 12\n",
      "alfa: 11\n",
      "sol: 11\n",
      "luna: 11\n",
      "astro: 6\n",
      "universo: 5\n",
      "sistema: 5\n",
      "misterio: 4\n",
      "iridia: 4\n",
      "luz: 4\n",
      "noche: 4\n",
      "observar: 4\n",
      "cósmico: 4\n",
      "solar: 3\n",
      "conocido: 3\n",
      "estelaria: 3\n",
      "vida: 3\n",
      "cielo: 3\n",
      "observatorio: 3\n"
     ]
    }
   ],
   "source": [
    "from collections import Counter\n",
    "\n",
    "word_freq = Counter(texto3)\n",
    "\n",
    "# Obtener las 20 palabras más frecuentes\n",
    "top_20_words = word_freq.most_common(20)\n",
    "\n",
    "# Imprimir las palabras más frecuentes y su frecuencia\n",
    "for word, freq in top_20_words:\n",
    "    print(f'{word}: {freq}')\n"
   ]
  },
  {
   "cell_type": "markdown",
   "metadata": {},
   "source": [
    "### Clasificación con Transformers "
   ]
  },
  {
   "cell_type": "code",
   "execution_count": 3,
   "metadata": {},
   "outputs": [
    {
     "name": "stdout",
     "output_type": "stream",
     "text": [
      "WARNING:tensorflow:From C:\\Users\\56951\\anaconda3\\Lib\\site-packages\\keras\\src\\losses.py:2976: The name tf.losses.sparse_softmax_cross_entropy is deprecated. Please use tf.compat.v1.losses.sparse_softmax_cross_entropy instead.\n",
      "\n"
     ]
    }
   ],
   "source": [
    "#from transformers import pipeline\n",
    "#import transformers\n",
    "\n",
    "#print(transformers.__version__)\n",
    "\n",
    "# si no se tiene una versión actualizada de transformers , se debe installar versión 4 en adelante "
   ]
  },
  {
   "cell_type": "code",
   "execution_count": 15,
   "metadata": {
    "colab": {
     "base_uri": "https://localhost:8080/",
     "height": 285
    },
    "id": "-jcFcBWd-Vc6",
    "outputId": "a8c52757-5d30-43c8-ff3a-f31b2c413ebf"
   },
   "outputs": [
    {
     "name": "stderr",
     "output_type": "stream",
     "text": [
      "Some layers from the model checkpoint at nlptown/bert-base-multilingual-uncased-sentiment were not used when initializing TFBertForSequenceClassification: ['dropout_37']\n",
      "- This IS expected if you are initializing TFBertForSequenceClassification from the checkpoint of a model trained on another task or with another architecture (e.g. initializing a BertForSequenceClassification model from a BertForPreTraining model).\n",
      "- This IS NOT expected if you are initializing TFBertForSequenceClassification from the checkpoint of a model that you expect to be exactly identical (initializing a BertForSequenceClassification model from a BertForSequenceClassification model).\n",
      "All the layers of TFBertForSequenceClassification were initialized from the model checkpoint at nlptown/bert-base-multilingual-uncased-sentiment.\n",
      "If your task is similar to the task the model of the checkpoint was trained on, you can already use TFBertForSequenceClassification for predictions without further training.\n"
     ]
    },
    {
     "name": "stdout",
     "output_type": "stream",
     "text": [
      "[{'label': '4 stars', 'score': 0.31162217259407043}]\n"
     ]
    }
   ],
   "source": [
    "from transformers import pipeline\n",
    "\n",
    "# Unir los tokens lematizados en un solo texto\n",
    "texto_lemmatizado = \" \".join(texto3)\n",
    "\n",
    "# Cargar un modelo de clasificación de textos de transformers\n",
    "classifier = pipeline('text-classification', model='nlptown/bert-base-multilingual-uncased-sentiment')\n",
    "\n",
    "# Clasificar el texto\n",
    "result = classifier(texto_lemmatizado)\n",
    "\n",
    "# Imprimir el resultado\n",
    "print(result)\n"
   ]
  },
  {
   "cell_type": "markdown",
   "metadata": {
    "id": "DliZCVfhA9Jy"
   },
   "source": [
    "# Cierre:\n",
    "\n",
    "https://quizizz.com/embed/quiz/667da5ff568780eb370b5e70\n",
    "\n"
   ]
  },
  {
   "cell_type": "code",
   "execution_count": null,
   "metadata": {},
   "outputs": [],
   "source": []
  }
 ],
 "metadata": {
  "colab": {
   "provenance": []
  },
  "kernelspec": {
   "display_name": "Python 3 (ipykernel)",
   "language": "python",
   "name": "python3"
  },
  "language_info": {
   "codemirror_mode": {
    "name": "ipython",
    "version": 3
   },
   "file_extension": ".py",
   "mimetype": "text/x-python",
   "name": "python",
   "nbconvert_exporter": "python",
   "pygments_lexer": "ipython3",
   "version": "3.12.4"
  }
 },
 "nbformat": 4,
 "nbformat_minor": 4
}
